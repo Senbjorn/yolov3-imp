{
 "cells": [
  {
   "cell_type": "code",
   "execution_count": 1,
   "id": "fe6c8016",
   "metadata": {},
   "outputs": [],
   "source": [
    "import os\n",
    "import glob\n",
    "import json\n",
    "import torch\n",
    "import matplotlib.pyplot as plt\n",
    "import numpy as np\n",
    "from collections import defaultdict\n",
    "from tqdm.notebook import tqdm\n",
    "\n",
    "from modules import Darknet\n",
    "from coco import (\n",
    "    load_classes, compute_coco_detections, compute_name_id_mappings,\n",
    "    map_ids, convert_coco_detections\n",
    ")\n",
    "from utils import write_results\n",
    "from visualize import (\n",
    "    read_img, resize_aspect, img_to_tensor,\n",
    "    inv_aspect_transform_results, clamp_results,\n",
    "    aspect_transform, uniform_color_palette,\n",
    "    draw_predictions, draw_palette\n",
    ")\n",
    "from metrics import compute_interpolated_precision, bbox_metrics, bbox_iou, bbox_match"
   ]
  },
  {
   "cell_type": "code",
   "execution_count": 2,
   "id": "2cf689de",
   "metadata": {},
   "outputs": [],
   "source": [
    "coco_val_path = '/media/semyon/Data/Documents/coco/val2017'\n",
    "coco_val_preds_path = '/media/semyon/Data/Documents/coco/preds_pt'"
   ]
  },
  {
   "cell_type": "code",
   "execution_count": 3,
   "id": "6120bd12",
   "metadata": {},
   "outputs": [],
   "source": [
    "classes = load_classes('coco.names')\n",
    "num_classes = len(classes)"
   ]
  },
  {
   "cell_type": "code",
   "execution_count": 4,
   "id": "cbd40390",
   "metadata": {},
   "outputs": [],
   "source": [
    "paths = list(glob.glob(os.path.join(coco_val_path, '*')))"
   ]
  },
  {
   "cell_type": "code",
   "execution_count": 5,
   "id": "72a99683",
   "metadata": {},
   "outputs": [],
   "source": [
    "def compute_image_name(img_path):\n",
    "    img_file_name = os.path.split(img_path)[1]\n",
    "    img_id = os.path.splitext(img_file_name)[0]\n",
    "    return img_id"
   ]
  },
  {
   "cell_type": "code",
   "execution_count": 6,
   "id": "94bcc8d9",
   "metadata": {},
   "outputs": [],
   "source": [
    "def compute_output_path(img_path, output_dir):\n",
    "    img_name = compute_image_name(img_path)\n",
    "    result_file_name = f'{img_name}.pt'\n",
    "    result_path = os.path.join(output_dir, result_file_name)\n",
    "    return result_path"
   ]
  },
  {
   "cell_type": "code",
   "execution_count": 7,
   "id": "717156a6",
   "metadata": {},
   "outputs": [],
   "source": [
    "annotations_path = '/media/semyon/Data/Documents/coco/annotations/instances_val2017_nocrowd.json'\n",
    "with open(annotations_path, 'r') as input_file:\n",
    "    annotations = json.load(input_file)\n",
    "coco_cat_ids_mapping = '/media/semyon/Data/Documents/coco/coco_cat_ids_mapping.json'\n",
    "with open(coco_cat_ids_mapping, 'r') as input_file:\n",
    "    id_mapping = json.load(input_file)\n",
    "id_mapping = {v: int(k) for k, v in id_mapping.items()}\n",
    "coco_bboxes = convert_coco_detections(annotations, id_mapping)"
   ]
  },
  {
   "cell_type": "code",
   "execution_count": 8,
   "id": "75edea18",
   "metadata": {},
   "outputs": [],
   "source": [
    "n_preds = 100\n",
    "iou_threshold = 0.5\n",
    "area_range = [0 ** 2, 1e5 ** 2]\n",
    "match = defaultdict(list)\n",
    "for i, path in enumerate(paths):\n",
    "    image_name = os.path.split(path)[1]\n",
    "    pred_path = compute_output_path(path, coco_val_preds_path)\n",
    "    if image_name in coco_bboxes:\n",
    "        targets = coco_bboxes[image_name]\n",
    "    else:\n",
    "        targets = torch.empty(0, 5, dtype=torch.float32)\n",
    "    preds = torch.load(pred_path)\n",
    "    if preds.numel() == 0:\n",
    "        preds = torch.empty(0, 7, dtype=torch.float32)\n",
    "    for c in torch.unique(targets[:, 4]):\n",
    "        c = int(c.item()) - 1\n",
    "        p = preds[preds[:, 6] == c][:, :5]\n",
    "        t = targets[targets[:, 4] == c + 1][:, :4]\n",
    "        ious = bbox_iou(p[:, :4], t)\n",
    "        match[c].append(\n",
    "            bbox_match(\n",
    "                p, t, ious,\n",
    "                iou_threshold=iou_threshold,\n",
    "                n_preds=n_preds,\n",
    "                area_range=area_range\n",
    "            )\n",
    "        )"
   ]
  },
  {
   "cell_type": "code",
   "execution_count": 9,
   "id": "d9c15844",
   "metadata": {},
   "outputs": [],
   "source": [
    "num_points = 101\n",
    "results = np.full((num_classes, num_points), -1, dtype=np.float32)\n",
    "for c in range(num_classes):\n",
    "    if c not in match:\n",
    "        print('no class', c)\n",
    "        continue\n",
    "    m = match[c]\n",
    "    num_targets = sum([rec['num_targets'] for rec in m])\n",
    "    bbox_m = torch.cat([rec['match'] for rec in m])\n",
    "    bbox_c = torch.cat([rec['confidence'] for rec in m])\n",
    "\n",
    "    indices = np.argsort(-bbox_c.detach().cpu().numpy(), kind='mergesort')\n",
    "    indices = torch.tensor(indices, dtype=torch.int64)\n",
    "    bbox_c = bbox_c[indices]\n",
    "    bbox_m = bbox_m[indices]\n",
    "    \n",
    "    tp = (bbox_m != -1).cumsum(0)\n",
    "    fp = (bbox_m == -1).cumsum(0)\n",
    "    precision = tp / (tp + fp)\n",
    "    recall = tp / num_targets\n",
    "    rthresh = torch.linspace(0, 1, num_points)\n",
    "    iprecision = compute_interpolated_precision(precision, recall, rthresh)\n",
    "    results[c] = iprecision.detach().cpu().numpy()"
   ]
  },
  {
   "cell_type": "code",
   "execution_count": 10,
   "id": "54cf9c5f",
   "metadata": {},
   "outputs": [
    {
     "data": {
      "text/plain": [
       "0.51647633"
      ]
     },
     "execution_count": 10,
     "metadata": {},
     "output_type": "execute_result"
    }
   ],
   "source": [
    "results[results > -1].mean()"
   ]
  },
  {
   "cell_type": "code",
   "execution_count": 36,
   "id": "33ea5770",
   "metadata": {},
   "outputs": [],
   "source": [
    "annotations_path = '/media/semyon/Data/Documents/coco/annotations/instances_val2017.json'\n",
    "with open(annotations_path, 'r') as input_file:\n",
    "    annotations = json.load(input_file)\n",
    "ids = set()\n",
    "a_nc = []\n",
    "for a in annotations['annotations']:\n",
    "    if not a['iscrowd']:\n",
    "        a_nc.append(a)\n",
    "annotations['annotations'] = a_nc\n",
    "annotations_nc_path = '/media/semyon/Data/Documents/coco/annotations/instances_val2017_nocrowd.json'\n",
    "with open(annotations_nc_path, 'w') as output_file:\n",
    "    annotations = json.dump(annotations, output_file)"
   ]
  },
  {
   "cell_type": "code",
   "execution_count": null,
   "id": "17d41655",
   "metadata": {},
   "outputs": [],
   "source": []
  }
 ],
 "metadata": {
  "kernelspec": {
   "display_name": "Python 3",
   "language": "python",
   "name": "python3"
  },
  "language_info": {
   "codemirror_mode": {
    "name": "ipython",
    "version": 3
   },
   "file_extension": ".py",
   "mimetype": "text/x-python",
   "name": "python",
   "nbconvert_exporter": "python",
   "pygments_lexer": "ipython3",
   "version": "3.7.10"
  }
 },
 "nbformat": 4,
 "nbformat_minor": 5
}
