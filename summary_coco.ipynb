{
 "cells": [
  {
   "cell_type": "code",
   "execution_count": 1,
   "id": "2be29314",
   "metadata": {},
   "outputs": [],
   "source": [
    "from pycocotools.coco import COCO\n",
    "from pycocotools.cocoeval import COCOeval\n",
    "import json\n",
    "import pickle\n",
    "import numpy as np"
   ]
  },
  {
   "cell_type": "markdown",
   "id": "31af328b",
   "metadata": {},
   "source": [
    "## Coco evaluation"
   ]
  },
  {
   "cell_type": "code",
   "execution_count": 2,
   "id": "dcbf1fab",
   "metadata": {},
   "outputs": [
    {
     "name": "stdout",
     "output_type": "stream",
     "text": [
      "loading annotations into memory...\n",
      "Done (t=0.64s)\n",
      "creating index...\n",
      "index created!\n"
     ]
    }
   ],
   "source": [
    "#initialize COCO ground truth api\n",
    "annType = 'bbox'\n",
    "annFile = '/media/semyon/Data/Documents/coco/annotations/instances_val2017_bbox.json'\n",
    "cocoGt=COCO(annFile)"
   ]
  },
  {
   "cell_type": "code",
   "execution_count": 3,
   "id": "de8fa1f6",
   "metadata": {},
   "outputs": [
    {
     "data": {
      "text/plain": [
       "36781"
      ]
     },
     "execution_count": 3,
     "metadata": {},
     "output_type": "execute_result"
    }
   ],
   "source": [
    "len(cocoGt.anns)"
   ]
  },
  {
   "cell_type": "code",
   "execution_count": 4,
   "id": "42c4e466",
   "metadata": {},
   "outputs": [
    {
     "name": "stdout",
     "output_type": "stream",
     "text": [
      "Loading and preparing results...\n",
      "DONE (t=0.35s)\n",
      "creating index...\n",
      "index created!\n"
     ]
    }
   ],
   "source": [
    "#initialize COCO detections api\n",
    "resFile = '/media/semyon/Data/Documents/coco/detections_coco.json'\n",
    "cocoDt=cocoGt.loadRes(resFile)"
   ]
  },
  {
   "cell_type": "code",
   "execution_count": 5,
   "id": "8ee12745",
   "metadata": {},
   "outputs": [],
   "source": [
    "with open(resFile, 'r') as input_file:\n",
    "    yolo_dt = json.load(input_file)\n",
    "for i in range(1, len(cocoDt.anns) + 1):\n",
    "    c_a = cocoDt.anns[i]\n",
    "    y_a = yolo_dt[i - 1]\n",
    "    c_b = np.array(c_a['bbox'])\n",
    "    y_b = np.array(y_a['bbox'])\n",
    "    if not (c_b == y_b).all():\n",
    "        print(i)"
   ]
  },
  {
   "cell_type": "code",
   "execution_count": 6,
   "id": "45854898",
   "metadata": {},
   "outputs": [
    {
     "name": "stdout",
     "output_type": "stream",
     "text": [
      "5000\n"
     ]
    }
   ],
   "source": [
    "imgIds=sorted(cocoGt.getImgIds())\n",
    "print(len(imgIds))"
   ]
  },
  {
   "cell_type": "code",
   "execution_count": 7,
   "id": "fc1b08a8",
   "metadata": {},
   "outputs": [
    {
     "name": "stdout",
     "output_type": "stream",
     "text": [
      "[1, 2, 3, 4, 5, 6, 7, 8, 9, 10, 11, 13, 14, 15, 16, 17, 18, 19, 20, 21, 22, 23, 24, 25, 27, 28, 31, 32, 33, 34, 35, 36, 37, 38, 39, 40, 41, 42, 43, 44, 46, 47, 48, 49, 50, 51, 52, 53, 54, 55, 56, 57, 58, 59, 60, 61, 62, 63, 64, 65, 67, 70, 72, 73, 74, 75, 76, 77, 78, 79, 80, 81, 82, 84, 85, 86, 87, 88, 89, 90]\n",
      "80\n"
     ]
    }
   ],
   "source": [
    "coco_cat_ids_path = '/media/semyon/Data/Documents/coco/coco_cat_ids.json'\n",
    "with open(coco_cat_ids_path, 'r') as input_file:\n",
    "    coco_cat_ids = json.load(input_file)\n",
    "print(coco_cat_ids)\n",
    "print(len(coco_cat_ids))"
   ]
  },
  {
   "cell_type": "code",
   "execution_count": 8,
   "id": "aafe52f9",
   "metadata": {},
   "outputs": [],
   "source": [
    "cocoEval = COCOeval(cocoGt,cocoDt,annType)\n",
    "cocoEval.params.imgIds  = imgIds\n",
    "cocoEval.params.catIds = coco_cat_ids"
   ]
  },
  {
   "cell_type": "code",
   "execution_count": 9,
   "id": "098fc868",
   "metadata": {},
   "outputs": [
    {
     "name": "stdout",
     "output_type": "stream",
     "text": [
      "Running per image evaluation...\n",
      "Evaluate annotation type *bbox*\n",
      "DONE (t=14.06s).\n",
      "Accumulating evaluation results...\n",
      "DONE (t=2.25s).\n",
      " Average Precision  (AP) @[ IoU=0.50:0.95 | area=   all | maxDets=100 ] = 0.292\n",
      " Average Precision  (AP) @[ IoU=0.50      | area=   all | maxDets=100 ] = 0.505\n",
      " Average Precision  (AP) @[ IoU=0.75      | area=   all | maxDets=100 ] = 0.304\n",
      " Average Precision  (AP) @[ IoU=0.50:0.95 | area= small | maxDets=100 ] = 0.075\n",
      " Average Precision  (AP) @[ IoU=0.50:0.95 | area=medium | maxDets=100 ] = 0.246\n",
      " Average Precision  (AP) @[ IoU=0.50:0.95 | area= large | maxDets=100 ] = 0.451\n",
      " Average Recall     (AR) @[ IoU=0.50:0.95 | area=   all | maxDets=  1 ] = 0.247\n",
      " Average Recall     (AR) @[ IoU=0.50:0.95 | area=   all | maxDets= 10 ] = 0.340\n",
      " Average Recall     (AR) @[ IoU=0.50:0.95 | area=   all | maxDets=100 ] = 0.344\n",
      " Average Recall     (AR) @[ IoU=0.50:0.95 | area= small | maxDets=100 ] = 0.103\n",
      " Average Recall     (AR) @[ IoU=0.50:0.95 | area=medium | maxDets=100 ] = 0.299\n",
      " Average Recall     (AR) @[ IoU=0.50:0.95 | area= large | maxDets=100 ] = 0.510\n"
     ]
    }
   ],
   "source": [
    "# running evaluation\n",
    "cocoEval.evaluate()\n",
    "cocoEval.accumulate()\n",
    "cocoEval.summarize()"
   ]
  },
  {
   "cell_type": "markdown",
   "id": "84171e0c",
   "metadata": {},
   "source": [
    "## Extract data"
   ]
  },
  {
   "cell_type": "code",
   "execution_count": 14,
   "id": "9a21fc2e",
   "metadata": {},
   "outputs": [],
   "source": [
    "evalImg_all_100 = [e for e in cocoEval.evalImgs if e is not None and (e['maxDet'] == 100 and e['aRng'][1] == 1e10 and e['aRng'][0] == 0)]"
   ]
  },
  {
   "cell_type": "code",
   "execution_count": 18,
   "id": "d0f53e8c",
   "metadata": {},
   "outputs": [],
   "source": [
    "evalImg_m_100 = [e for e in cocoEval.evalImgs if e is not None and (e['maxDet'] == 100 and e['aRng'][1] == 96 ** 2 and e['aRng'][0] == 32 ** 2)]"
   ]
  },
  {
   "cell_type": "code",
   "execution_count": 15,
   "id": "170d8c9a",
   "metadata": {},
   "outputs": [],
   "source": [
    "evalImg = evalImg_all_100"
   ]
  },
  {
   "cell_type": "code",
   "execution_count": 17,
   "id": "783abaeb",
   "metadata": {},
   "outputs": [],
   "source": [
    "matches = []\n",
    "for e in evalImg:\n",
    "    match = {\n",
    "        'image_id': e['image_id'],\n",
    "        'category_id': e['category_id'],\n",
    "        'target_ids': e['gtIds'],\n",
    "        'pred_ids': e['dtIds'],\n",
    "        'matched': e['dtMatches'][0],\n",
    "        'scores': e['dtScores']\n",
    "    }\n",
    "    matches.append(match)\n",
    "coco_matches_path = '/media/semyon/Data/Documents/coco/coco_matches.pkl'\n",
    "with open(coco_matches_path, 'wb') as output_file:\n",
    "    pickle.dump(matches, output_file)"
   ]
  },
  {
   "cell_type": "code",
   "execution_count": 23,
   "id": "5899d23d",
   "metadata": {},
   "outputs": [
    {
     "name": "stdout",
     "output_type": "stream",
     "text": [
      "1\n",
      "3723 10777\n",
      "2\n",
      "123 314\n",
      "3\n",
      "547 1918\n",
      "4\n",
      "138 367\n",
      "5\n",
      "43 143\n",
      "6\n",
      "82 283\n",
      "7\n",
      "18 190\n",
      "8\n",
      "164 414\n",
      "9\n",
      "135 424\n",
      "10\n",
      "99 634\n",
      "11\n",
      "30 101\n",
      "13\n",
      "21 75\n",
      "14\n",
      "21 60\n",
      "15\n",
      "132 411\n",
      "16\n",
      "85 427\n",
      "17\n",
      "37 202\n",
      "18\n",
      "62 218\n",
      "19\n",
      "98 272\n",
      "20\n",
      "159 354\n",
      "21\n",
      "123 372\n",
      "22\n",
      "96 252\n",
      "23\n",
      "13 71\n",
      "24\n",
      "95 266\n",
      "25\n",
      "97 232\n",
      "27\n",
      "135 371\n",
      "28\n",
      "169 407\n",
      "31\n",
      "204 540\n",
      "32\n",
      "77 252\n",
      "33\n",
      "118 299\n",
      "34\n",
      "40 115\n",
      "35\n",
      "59 241\n",
      "36\n",
      "24 69\n",
      "37\n",
      "27 260\n",
      "38\n",
      "81 327\n",
      "39\n",
      "61 145\n",
      "40\n",
      "52 148\n",
      "41\n",
      "84 179\n",
      "42\n",
      "118 267\n",
      "43\n",
      "125 225\n",
      "44\n",
      "328 1013\n",
      "46\n",
      "116 341\n",
      "47\n",
      "351 895\n",
      "48\n",
      "91 215\n",
      "49\n",
      "96 325\n",
      "50\n",
      "70 253\n",
      "51\n",
      "234 623\n",
      "52\n",
      "173 370\n",
      "53\n",
      "91 236\n",
      "54\n",
      "48 177\n",
      "55\n",
      "116 285\n",
      "56\n",
      "189 312\n",
      "57\n",
      "157 365\n",
      "58\n",
      "33 125\n",
      "59\n",
      "80 284\n",
      "60\n",
      "96 328\n",
      "61\n",
      "122 310\n",
      "62\n",
      "829 1771\n",
      "63\n",
      "58 261\n",
      "64\n",
      "189 342\n",
      "65\n",
      "14 163\n",
      "67\n",
      "173 695\n",
      "70\n",
      "47 179\n",
      "72\n",
      "106 288\n",
      "73\n",
      "80 231\n",
      "74\n",
      "44 106\n",
      "75\n",
      "60 283\n",
      "76\n",
      "78 153\n",
      "77\n",
      "78 262\n",
      "78\n",
      "33 55\n",
      "79\n",
      "51 143\n",
      "80\n",
      "5 9\n",
      "81\n",
      "98 225\n",
      "82\n",
      "28 126\n",
      "84\n",
      "239 1129\n",
      "85\n",
      "99 267\n",
      "86\n",
      "98 274\n",
      "87\n",
      "9 36\n",
      "88\n",
      "49 190\n",
      "89\n",
      "3 11\n",
      "90\n",
      "18 57\n"
     ]
    }
   ],
   "source": [
    "from collections import defaultdict\n",
    "evalImg_dict = defaultdict(list)\n",
    "for e in evalImg_m_100:\n",
    "    evalImg_dict[e['category_id']].append(e)\n",
    "for c in evalImg_dict:\n",
    "    print(c)\n",
    "    gti = np.concatenate([e['gtIgnore'] for e in evalImg_dict[c]])\n",
    "    print((gti == 0).sum(), len(gti))"
   ]
  },
  {
   "cell_type": "code",
   "execution_count": null,
   "id": "e3064e4f",
   "metadata": {},
   "outputs": [],
   "source": []
  }
 ],
 "metadata": {
  "kernelspec": {
   "display_name": "Python 3",
   "language": "python",
   "name": "python3"
  },
  "language_info": {
   "codemirror_mode": {
    "name": "ipython",
    "version": 3
   },
   "file_extension": ".py",
   "mimetype": "text/x-python",
   "name": "python",
   "nbconvert_exporter": "python",
   "pygments_lexer": "ipython3",
   "version": "3.8.10"
  }
 },
 "nbformat": 4,
 "nbformat_minor": 5
}
