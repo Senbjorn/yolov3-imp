{
 "cells": [
  {
   "cell_type": "code",
   "execution_count": 1,
   "id": "710e8744",
   "metadata": {},
   "outputs": [],
   "source": [
    "import os\n",
    "import torch\n",
    "from yolov3.utils import json_load, json_dump\n",
    "from yolov3.coco import prepare_data, load_classes, convert_detections_to_coco\n",
    "from yolov3.evaluate import evaluate\n",
    "from yolov3.modules import Darknet"
   ]
  },
  {
   "cell_type": "code",
   "execution_count": 2,
   "id": "7b538099",
   "metadata": {},
   "outputs": [],
   "source": [
    "coco_data_path = '/media/semyon/Data/Documents/coco/'\n",
    "coco_val_path = os.path.join(coco_data_path, 'val2017')\n",
    "coco_annotations_path = os.path.join(coco_data_path, 'annotations')\n",
    "coco_instances_path = os.path.join(coco_annotations_path, 'instances_val2017.json')"
   ]
  },
  {
   "cell_type": "markdown",
   "id": "6b07872a",
   "metadata": {},
   "source": [
    "## Prepare annotations"
   ]
  },
  {
   "cell_type": "code",
   "execution_count": 3,
   "id": "825aa3dc",
   "metadata": {},
   "outputs": [],
   "source": [
    "annotations = json_load(coco_instances_path)"
   ]
  },
  {
   "cell_type": "markdown",
   "id": "1e980709",
   "metadata": {},
   "source": [
    "In our implementation, we consider only bounding boxes however, COCO uses segmentations and areas are computed for segmentations. We need to recompute areas according to bounding box sizes otherwise we can't reproduce COCO evaluation."
   ]
  },
  {
   "cell_type": "code",
   "execution_count": 4,
   "id": "dbec7d39",
   "metadata": {},
   "outputs": [],
   "source": [
    "for a in annotations['annotations']:\n",
    "    w, h = a['bbox'][2:]\n",
    "    a['area'] = w * h"
   ]
  },
  {
   "cell_type": "markdown",
   "id": "0e8ab354",
   "metadata": {},
   "source": [
    "We also don't use `iscrowd` annotations. Hence, we simply set all `iscrowd` to 0."
   ]
  },
  {
   "cell_type": "code",
   "execution_count": 5,
   "id": "3d947384",
   "metadata": {},
   "outputs": [],
   "source": [
    "for a in annotations['annotations']:\n",
    "    if 'iscrowd' in a:\n",
    "        a['iscrowd'] = 0"
   ]
  },
  {
   "cell_type": "code",
   "execution_count": 6,
   "id": "84822951",
   "metadata": {},
   "outputs": [],
   "source": [
    "new_instances_path = os.path.join(coco_annotations_path, 'instances_val2017_bbox.json')\n",
    "json_dump(annotations, new_instances_path)"
   ]
  },
  {
   "cell_type": "markdown",
   "id": "7d565de8",
   "metadata": {},
   "source": [
    "## Prepare data"
   ]
  },
  {
   "cell_type": "code",
   "execution_count": 4,
   "id": "20ecfe33",
   "metadata": {},
   "outputs": [],
   "source": [
    "category_id_mapping_path = 'coco_category_id_mapping.json'\n",
    "category_id_mapping = json_load(category_id_mapping_path)\n",
    "category_id_mapping = {m['coco']: m['yolo'] - 1 for m in category_id_mapping}"
   ]
  },
  {
   "cell_type": "code",
   "execution_count": 5,
   "id": "ecd2ec22",
   "metadata": {},
   "outputs": [],
   "source": [
    "data_path = os.path.join(coco_data_path, 'val2017_prepared')\n",
    "if not os.path.exists(data_path):\n",
    "    os.mkdir(data_path)\n",
    "annotations_path = os.path.join(coco_annotations_path, 'instances_val2017_bbox.json')"
   ]
  },
  {
   "cell_type": "code",
   "execution_count": 9,
   "id": "0e2d562c",
   "metadata": {},
   "outputs": [
    {
     "name": "stdout",
     "output_type": "stream",
     "text": [
      "create output dirs\n",
      "copy images\n",
      "done       5000/5000\n",
      "save images index\n",
      "convert annotations\n",
      "indexing annotations\n",
      "done       5000/5000\n",
      "save annotations index\n"
     ]
    }
   ],
   "source": [
    "prepare_data(coco_val_path, annotations_path, data_path, cat_id_mapping=category_id_mapping)"
   ]
  },
  {
   "cell_type": "markdown",
   "id": "6e9f4ced",
   "metadata": {},
   "source": [
    "## Evaluate YOLOv3"
   ]
  },
  {
   "cell_type": "code",
   "execution_count": 6,
   "id": "d5a2bb70",
   "metadata": {},
   "outputs": [],
   "source": [
    "cfg_path = './config/yolov3/yolov3_320.cfg'\n",
    "wts_path = './config/yolov3/yolov3.weights'\n",
    "cls_path = './config/yolov3/coco.names'\n",
    "preds_path = os.path.join(coco_data_path, 'val2017_pred')"
   ]
  },
  {
   "cell_type": "code",
   "execution_count": 7,
   "id": "24e0a74c",
   "metadata": {},
   "outputs": [],
   "source": [
    "classes = load_classes(cls_path)\n",
    "num_classes = len(classes)"
   ]
  },
  {
   "cell_type": "code",
   "execution_count": 8,
   "id": "79e288c6",
   "metadata": {},
   "outputs": [],
   "source": [
    "if not os.path.exists(preds_path):\n",
    "    os.mkdir(preds_path)"
   ]
  },
  {
   "cell_type": "code",
   "execution_count": 9,
   "id": "3eb5e99e",
   "metadata": {},
   "outputs": [],
   "source": [
    "model = Darknet(cfg_path)\n",
    "model.load_weights(wts_path)"
   ]
  },
  {
   "cell_type": "code",
   "execution_count": 10,
   "id": "37dd3c8d",
   "metadata": {},
   "outputs": [
    {
     "name": "stdout",
     "output_type": "stream",
     "text": [
      "cuda:0\n"
     ]
    }
   ],
   "source": [
    "device = 'cuda:0' if torch.cuda.is_available() else 'cpu'\n",
    "print(device)data_path = os.path.join(coco_data_path, 'val2017_prepared')"
   ]
  },
  {
   "cell_type": "code",
   "execution_count": 11,
   "id": "b9b6ec9d",
   "metadata": {},
   "outputs": [
    {
     "name": "stdout",
     "output_type": "stream",
     "text": [
      "read index\n",
      "evaluation\n",
      "done       5000/5000\n",
      "save index\n"
     ]
    }
   ],
   "source": [
    "evaluate(model, os.path.join(data_path, 'images'), preds_path, num_classes, device=device, batch_size=4)"
   ]
  },
  {
   "cell_type": "markdown",
   "id": "a507c902",
   "metadata": {},
   "source": [
    "## Covert detections to COCO"
   ]
  },
  {
   "cell_type": "code",
   "execution_count": 17,
   "id": "0e516858",
   "metadata": {},
   "outputs": [],
   "source": [
    "category_id_mapping = json_load(category_id_mapping_path)\n",
    "category_id_mapping = {m['yolo']: m['coco'] for m in category_id_mapping}"
   ]
  },
  {
   "cell_type": "code",
   "execution_count": 18,
   "id": "813f746f",
   "metadata": {},
   "outputs": [],
   "source": [
    "coco_detections_path = os.path.join(coco_data_path, 'detections_coco.json')"
   ]
  },
  {
   "cell_type": "code",
   "execution_count": 19,
   "id": "43ebbe05",
   "metadata": {},
   "outputs": [],
   "source": [
    "convert_detections_to_coco(preds_path, coco_detections_path, category_id_mapping=category_id_mapping)"
   ]
  },
  {
   "cell_type": "code",
   "execution_count": null,
   "id": "63d97649",
   "metadata": {},
   "outputs": [],
   "source": []
  }
 ],
 "metadata": {
  "kernelspec": {
   "display_name": "Python 3",
   "language": "python",
   "name": "python3"
  },
  "language_info": {
   "codemirror_mode": {
    "name": "ipython",
    "version": 3
   },
   "file_extension": ".py",
   "mimetype": "text/x-python",
   "name": "python",
   "nbconvert_exporter": "python",
   "pygments_lexer": "ipython3",
   "version": "3.7.10"
  }
 },
 "nbformat": 4,
 "nbformat_minor": 5
}
