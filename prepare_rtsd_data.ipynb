{
 "cells": [
  {
   "cell_type": "code",
   "execution_count": 1,
   "id": "21915d09",
   "metadata": {},
   "outputs": [],
   "source": [
    "# create image ids for train and test\n",
    "# create category ids\n",
    "# collect annotations in coco format\n",
    "# convert it to my format\n",
    "# save all images and annotations to the train and test output directories"
   ]
  },
  {
   "cell_type": "code",
   "execution_count": 2,
   "id": "d1270303",
   "metadata": {},
   "outputs": [],
   "source": [
    "import os\n",
    "import shutil\n",
    "import numpy as np\n",
    "import pandas as pd\n",
    "\n",
    "import torch\n",
    "\n",
    "from yolov3.coco import convert_coco_annotations\n",
    "from yolov3.data import save_index, json_dump"
   ]
  },
  {
   "cell_type": "code",
   "execution_count": 3,
   "id": "23d4ed35",
   "metadata": {},
   "outputs": [],
   "source": [
    "rtsd_path = '/media/semyon/Data/Documents/mipt/1C/state-exam/data'\n",
    "rtsd_frames = os.path.join(rtsd_path, 'rtsd-d3-frames')\n",
    "rtsd_gt = os.path.join(rtsd_path, 'rtsd-d3-gt')\n",
    "output_dir = '/media/semyon/Data/Documents/rtsd'"
   ]
  },
  {
   "cell_type": "code",
   "execution_count": 4,
   "id": "2cabdef0",
   "metadata": {},
   "outputs": [],
   "source": [
    "def create_dir(dir_path):\n",
    "    if not os.path.exists(dir_path):\n",
    "        os.mkdir(dir_path)\n",
    "\n",
    "def get_path(root, *subdirs):\n",
    "    return os.path.join(root, *subdirs)"
   ]
  },
  {
   "cell_type": "code",
   "execution_count": 15,
   "id": "74d65250",
   "metadata": {},
   "outputs": [],
   "source": [
    "create_dir(output_dir)"
   ]
  },
  {
   "cell_type": "code",
   "execution_count": 7,
   "id": "16f043df",
   "metadata": {},
   "outputs": [],
   "source": [
    "def invert_index(index):\n",
    "    return {v: k for k, v in index.items()}\n",
    "\n",
    "\n",
    "def create_image_index(rtsd_frames_path, prefix, start=1):\n",
    "    img_id = start\n",
    "    img_index = {}\n",
    "    frames_path = os.path.join(rtsd_frames_path, prefix)\n",
    "    for file_name in os.listdir(frames_path):\n",
    "        img_index[img_id] = file_name\n",
    "        img_id += 1\n",
    "    return img_index\n",
    "\n",
    "\n",
    "def create_category_index(rtsd_gt_path, start=1):\n",
    "    cat_id = start\n",
    "    cat_index = {}\n",
    "    for cat in os.listdir(rtsd_gt_path):\n",
    "        cat_path = os.path.join(rtsd_gt_path, cat)\n",
    "        if not os.path.isdir(cat_path):\n",
    "            continue\n",
    "        cat_index[cat_id] = cat\n",
    "        cat_id += 1\n",
    "    return cat_index"
   ]
  },
  {
   "cell_type": "code",
   "execution_count": 8,
   "id": "02607da9",
   "metadata": {},
   "outputs": [],
   "source": [
    "def collect_annotations(rtsd_gt_path, prefix, image_index_inv, category_index_inv):\n",
    "    ann_id = 1\n",
    "    annotations = []\n",
    "    for cat in os.listdir(rtsd_gt_path):\n",
    "        cat_path = os.path.join(rtsd_gt_path, cat)\n",
    "        if not os.path.isdir(cat_path):\n",
    "            continue\n",
    "        anns_path = os.path.join(cat_path, f'{prefix}_gt.csv')\n",
    "        anns_df = pd.read_csv(anns_path)\n",
    "        for idx, row in anns_df.iterrows():\n",
    "            img_id = image_index_inv[row.filename]\n",
    "            cat_id = category_index_inv[cat]\n",
    "            bbox = [row.x_from, row.y_from, row.width, row.height]\n",
    "            a = {\n",
    "                'id': ann_id,\n",
    "                'image_id': img_id,\n",
    "                'bbox': bbox,\n",
    "                'category_id': cat_id\n",
    "            }\n",
    "            ann_id += 1\n",
    "            annotations.append(a)\n",
    "    return annotations\n",
    "\n",
    "\n",
    "def create_annotation_tensors(annotations, image_index, category_index):\n",
    "    annotation_tensors = convert_coco_annotations(\n",
    "        {'annotations': annotations},\n",
    "        {k: k for k, v in category_index.items()}\n",
    "    )\n",
    "    for k in image_index:\n",
    "        if k not in annotation_tensors:\n",
    "            annotation_tensors[k] = torch.empty(0, 6, dtype=torch.float32)\n",
    "    return annotation_tensors"
   ]
  },
  {
   "cell_type": "code",
   "execution_count": 20,
   "id": "6e28f914",
   "metadata": {},
   "outputs": [],
   "source": [
    "def save_annotation_tensors(annotation_tensors, output_dir, image_index):\n",
    "    ann_index = {}\n",
    "    for k in image_index:\n",
    "        ann = annotation_tensors[k]\n",
    "        img_file_name = image_index[k]\n",
    "        ann_file_name = os.path.splitext(img_file_name)[0] + '.pt'\n",
    "        ann_file_path = get_path(output_dir, ann_file_name)\n",
    "        ann_index[k] = ann_file_name\n",
    "        torch.save(ann, ann_file_path)\n",
    "    index_path = get_path(output_dir, 'index.json')\n",
    "    save_index(ann_index, index_path)\n",
    "    \n",
    "\n",
    "def copy_images(rtsd_frames_path, prefix, output_dir, image_index):\n",
    "    for k in image_index:\n",
    "        file_name = image_index[k]\n",
    "        output_path = get_path(output_dir, file_name)\n",
    "        input_path = get_path(rtsd_frames_path, prefix, file_name)\n",
    "        shutil.copyfile(input_path, output_path)\n",
    "    index_path = get_path(output_dir, 'index.json')\n",
    "    save_index(image_index, index_path)"
   ]
  },
  {
   "cell_type": "code",
   "execution_count": 22,
   "id": "cc008c52",
   "metadata": {},
   "outputs": [],
   "source": [
    "prefix = 'test'"
   ]
  },
  {
   "cell_type": "code",
   "execution_count": 23,
   "id": "d419598d",
   "metadata": {},
   "outputs": [],
   "source": [
    "img_index = create_image_index(rtsd_frames, prefix)\n",
    "img_index_inv = invert_index(img_index)"
   ]
  },
  {
   "cell_type": "code",
   "execution_count": 24,
   "id": "78530e12",
   "metadata": {},
   "outputs": [],
   "source": [
    "cat_index = create_category_index(rtsd_gt)\n",
    "cat_index_inv = invert_index(cat_index)"
   ]
  },
  {
   "cell_type": "code",
   "execution_count": 25,
   "id": "e17725d7",
   "metadata": {},
   "outputs": [],
   "source": [
    "annotations = collect_annotations(rtsd_gt, prefix, img_index_inv, cat_index_inv)"
   ]
  },
  {
   "cell_type": "code",
   "execution_count": 26,
   "id": "a8d798be",
   "metadata": {},
   "outputs": [],
   "source": [
    "annotation_tensors = create_annotation_tensors(annotations, img_index, cat_index)"
   ]
  },
  {
   "cell_type": "code",
   "execution_count": 27,
   "id": "5b4fb5cf",
   "metadata": {},
   "outputs": [],
   "source": [
    "create_dir(get_path(output_dir, prefix))\n",
    "create_dir(get_path(output_dir, prefix, 'annotations'))"
   ]
  },
  {
   "cell_type": "code",
   "execution_count": 28,
   "id": "27125e8a",
   "metadata": {},
   "outputs": [],
   "source": [
    "save_annotation_tensors(annotation_tensors, get_path(output_dir, prefix, 'annotations'), img_index)"
   ]
  },
  {
   "cell_type": "code",
   "execution_count": 29,
   "id": "acdc9542",
   "metadata": {},
   "outputs": [],
   "source": [
    "create_dir(get_path(output_dir, prefix, 'images'))"
   ]
  },
  {
   "cell_type": "code",
   "execution_count": 30,
   "id": "78e4a42f",
   "metadata": {},
   "outputs": [],
   "source": [
    "copy_images(rtsd_frames, prefix, get_path(output_dir, prefix, 'images'), img_index)"
   ]
  }
 ],
 "metadata": {
  "kernelspec": {
   "display_name": "Python 3",
   "language": "python",
   "name": "python3"
  },
  "language_info": {
   "codemirror_mode": {
    "name": "ipython",
    "version": 3
   },
   "file_extension": ".py",
   "mimetype": "text/x-python",
   "name": "python",
   "nbconvert_exporter": "python",
   "pygments_lexer": "ipython3",
   "version": "3.7.10"
  }
 },
 "nbformat": 4,
 "nbformat_minor": 5
}
