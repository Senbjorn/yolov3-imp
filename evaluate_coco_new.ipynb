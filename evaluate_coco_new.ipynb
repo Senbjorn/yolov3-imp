{
 "cells": [
  {
   "cell_type": "markdown",
   "id": "a53deafe",
   "metadata": {},
   "source": [
    "## Prepare data"
   ]
  },
  {
   "cell_type": "code",
   "execution_count": 1,
   "id": "bf8f9e45",
   "metadata": {},
   "outputs": [],
   "source": [
    "import os\n",
    "from collections import defaultdict\n",
    "import numpy as np\n",
    "from tqdm.notebook import tqdm\n",
    "\n",
    "import torch\n",
    "\n",
    "from yolov3.utils import json_load, json_dump\n",
    "from yolov3.coco import prepare_data, load_classes\n",
    "from yolov3.data import read_index\n",
    "from yolov3.evaluate import evaluate\n",
    "from yolov3.modules import Darknet\n",
    "from yolov3.bbox import bbox_iou\n",
    "from yolov3.metrics import bbox_match, compute_interpolated_precision"
   ]
  },
  {
   "cell_type": "code",
   "execution_count": 2,
   "id": "10769c7c",
   "metadata": {},
   "outputs": [],
   "source": [
    "coco_val_path = '/media/semyon/Data/Documents/coco/val2017'\n",
    "annotations_path = '/media/semyon/Data/Documents/coco/annotations/instances_val2017_nocrowd.json'\n",
    "coco_val_formated_path = '/media/semyon/Data/Documents/coco/val2017_formated'"
   ]
  },
  {
   "cell_type": "code",
   "execution_count": 3,
   "id": "2cbf22f1",
   "metadata": {},
   "outputs": [],
   "source": [
    "if not os.path.exists(coco_val_formated_path):\n",
    "    os.mkdir(coco_val_formated_path)"
   ]
  },
  {
   "cell_type": "code",
   "execution_count": 4,
   "id": "1a4cc991",
   "metadata": {},
   "outputs": [],
   "source": [
    "coco_cat_ids_mapping_path = '/media/semyon/Data/Documents/coco/coco_cat_ids_mapping.json'\n",
    "coco_cat_ids_mapping = json_load(coco_cat_ids_mapping_path)\n",
    "coco_cat_ids_mapping = {int(k) - 1: v for k, v in coco_cat_ids_mapping.items()}\n",
    "coco_cat_ids_mapping_inv = {v: k for k, v in coco_cat_ids_mapping.items()}"
   ]
  },
  {
   "cell_type": "code",
   "execution_count": 5,
   "id": "05a9cb4b",
   "metadata": {
    "scrolled": true
   },
   "outputs": [
    {
     "name": "stdout",
     "output_type": "stream",
     "text": [
      "create output dirs\n",
      "copy images\n",
      "done       5000/5000\n",
      "save images index\n",
      "convert annotations\n",
      "indexing annotations\n",
      "done       5000/5000\n",
      "save annotations index\n"
     ]
    }
   ],
   "source": [
    "prepare_data(coco_val_path, annotations_path, coco_val_formated_path, cat_id_mapping=coco_cat_ids_mapping_inv)"
   ]
  },
  {
   "cell_type": "markdown",
   "id": "a17be791",
   "metadata": {},
   "source": [
    "## Evaluate data"
   ]
  },
  {
   "cell_type": "code",
   "execution_count": 5,
   "id": "7db45623",
   "metadata": {},
   "outputs": [],
   "source": [
    "classes = load_classes('config/yolov3/coco.names')\n",
    "num_classes = len(classes)"
   ]
  },
  {
   "cell_type": "code",
   "execution_count": 6,
   "id": "f83ee968",
   "metadata": {},
   "outputs": [],
   "source": [
    "model = Darknet('config/yolov3/yolov3_320.cfg')\n",
    "model.load_weights('config/yolov3/yolov3.weights')"
   ]
  },
  {
   "cell_type": "code",
   "execution_count": 7,
   "id": "1a75940f",
   "metadata": {},
   "outputs": [],
   "source": [
    "images_path = os.path.join(coco_val_formated_path, 'images')\n",
    "preds_path = '/media/semyon/Data/Documents/coco/val2017_preds'"
   ]
  },
  {
   "cell_type": "code",
   "execution_count": 8,
   "id": "c18ca51f",
   "metadata": {},
   "outputs": [],
   "source": [
    "if not os.path.exists(preds_path):\n",
    "    os.mkdir(preds_path)"
   ]
  },
  {
   "cell_type": "code",
   "execution_count": 12,
   "id": "af591300",
   "metadata": {},
   "outputs": [
    {
     "name": "stdout",
     "output_type": "stream",
     "text": [
      "read index\n",
      "evaluation\n",
      "done       5000/5000\n",
      "save index\n"
     ]
    }
   ],
   "source": [
    "evaluate(model, images_path, preds_path, num_classes, verbose=True, device='cuda:0', batch_size=4)"
   ]
  },
  {
   "cell_type": "markdown",
   "id": "36675f0a",
   "metadata": {},
   "source": [
    "## Compute metrics"
   ]
  },
  {
   "cell_type": "code",
   "execution_count": 9,
   "id": "ba1078f4",
   "metadata": {},
   "outputs": [],
   "source": [
    "new_annotations_path = os.path.join(coco_val_formated_path, 'annotations')\n",
    "anns_index_path = os.path.join(new_annotations_path, 'index.json')\n",
    "anns_index = read_index(anns_index_path)\n",
    "preds_index_path = os.path.join(preds_path, 'index.json')\n",
    "preds_index = read_index(preds_index_path)"
   ]
  },
  {
   "cell_type": "code",
   "execution_count": 10,
   "id": "1f839cfb",
   "metadata": {},
   "outputs": [
    {
     "data": {
      "application/vnd.jupyter.widget-view+json": {
       "model_id": "f553f6fd6f1c4f7a89387fe944702670",
       "version_major": 2,
       "version_minor": 0
      },
      "text/plain": [
       "  0%|          | 0/5000 [00:00<?, ?it/s]"
      ]
     },
     "metadata": {},
     "output_type": "display_data"
    }
   ],
   "source": [
    "num_preds = 100\n",
    "iou_thresholds = torch.arange(0.5, 1., 0.05).tolist()\n",
    "area_ranges = [\n",
    "    [0 ** 2, 1e5 ** 2],\n",
    "    [0, 32 ** 2],\n",
    "    [32 ** 2, 96 ** 2],\n",
    "    [96 ** 2, 1e5 ** 2]\n",
    "]\n",
    "matches_cat = defaultdict(list)\n",
    "for image_id in tqdm(anns_index):\n",
    "    target_file = anns_index[image_id]\n",
    "    target_path = os.path.join(new_annotations_path, target_file)\n",
    "    targets = torch.load(target_path)\n",
    "    \n",
    "    pred_file = preds_index[image_id]\n",
    "    pred_path = os.path.join(preds_path, pred_file)\n",
    "    preds = torch.load(pred_path)\n",
    "    \n",
    "    if targets.numel() == 0 and preds.numel() == 0:\n",
    "        continue\n",
    "    cats = torch.unique(torch.cat((preds[:, 5], targets[:, 4]))).detach().cpu().numpy()\n",
    "    for c in cats:\n",
    "        p = preds[preds[:, 5] == c]\n",
    "        t = targets[targets[:, 4] == c]\n",
    "        ious = bbox_iou(p[:, :4], t[:, :4])\n",
    "        target_ids = t[:, 5].detach().cpu().numpy().astype(np.int64)\n",
    "        match = [bbox_match(\n",
    "            p[:, :5], t[:, :4], ious,\n",
    "            iou_thresholds=iou_thresholds,\n",
    "            num_preds=num_preds,\n",
    "            area_range=area_range\n",
    "        ) for area_range in area_ranges]\n",
    "        matches_cat[c].append(match)"
   ]
  },
  {
   "cell_type": "code",
   "execution_count": 11,
   "id": "aa5b8018",
   "metadata": {},
   "outputs": [],
   "source": [
    "num_preds = 100\n",
    "num_points = 101\n",
    "num_thresholds = len(iou_thresholds)\n",
    "num_areas = len(area_ranges)\n",
    "results = torch.full((num_areas, num_thresholds, num_classes, num_points), -1, dtype=torch.float32)\n",
    "for a in range(4):\n",
    "    for c in range(num_classes):\n",
    "        if c not in matches_cat:\n",
    "            print('no class', c)\n",
    "            continue\n",
    "        m = [v[a] for v in matches_cat[c]]\n",
    "        num_targets = torch.sum(torch.cat([1 - rec['target_ignore'] for rec in m]))\n",
    "        num_ignore = torch.sum(torch.cat([rec['target_ignore'] for rec in m]))\n",
    "        bbox_c = torch.cat([rec['confidences'][:num_preds] for rec in m])\n",
    "        bbox_m = torch.cat([rec['preds_matched'][:, :num_preds] for rec in m], dim=1)\n",
    "        bbox_mask = torch.cat([rec['preds_mask'][:, :num_preds] for rec in m], dim=1)\n",
    "        indices = np.argsort(-bbox_c.detach().cpu().numpy(), kind='mergesort')\n",
    "        indices = torch.tensor(indices, dtype=torch.int64)\n",
    "        bbox_c = bbox_c[indices]\n",
    "        bbox_m = bbox_m[:, indices]\n",
    "        bbox_mask = bbox_mask[:, indices]\n",
    "        tp = ((bbox_m != -1) & (bbox_mask == 0)).cumsum(1)\n",
    "        fp = ((bbox_m == -1) & (bbox_mask == 0)).cumsum(1)\n",
    "        precision = tp / (tp + fp + 1e-16)\n",
    "        recall = tp / num_targets\n",
    "        rthresh = torch.linspace(0, 1, num_points)\n",
    "        iprecision = torch.empty(num_thresholds, num_points, dtype=torch.float32)\n",
    "        for i in range(num_thresholds):\n",
    "            iprecision[i] = compute_interpolated_precision(precision[i], recall[i], rthresh)\n",
    "        results[a, :, c] = iprecision"
   ]
  },
  {
   "cell_type": "code",
   "execution_count": 12,
   "id": "6ac8485f",
   "metadata": {},
   "outputs": [
    {
     "name": "stdout",
     "output_type": "stream",
     "text": [
      "AP(all)=0.293\n",
      "AP(all, 0.5)=0.505\n",
      "AP(all, 0.75)=0.305\n",
      "AP(small)=0.074\n",
      "AP(medium)=0.247\n",
      "AP(large)=0.458\n"
     ]
    }
   ],
   "source": [
    "# all\n",
    "r = results[0]\n",
    "ap = r[r > -1].mean().item()\n",
    "ap50 = r[0][r[0] > -1].mean().item()\n",
    "ap75 = r[5][r[5] > -1].mean().item()\n",
    "print(f'AP(all)={ap:0.3f}')\n",
    "print(f'AP(all, 0.5)={ap50:0.3f}')\n",
    "print(f'AP(all, 0.75)={ap75:0.3f}')\n",
    "# small\n",
    "r = results[1]\n",
    "ap = r[r > -1].mean().item()\n",
    "print(f'AP(small)={ap:0.3f}')\n",
    "# medium\n",
    "r = results[2]\n",
    "ap = r[r > -1].mean().item()\n",
    "print(f'AP(medium)={ap:0.3f}')\n",
    "# large\n",
    "r = results[3]\n",
    "ap = r[r > -1].mean().item()\n",
    "print(f'AP(large)={ap:0.3f}')"
   ]
  },
  {
   "cell_type": "markdown",
   "id": "db47b3f6",
   "metadata": {},
   "source": [
    "## Bbox areas for COCO annotations"
   ]
  },
  {
   "cell_type": "code",
   "execution_count": 34,
   "id": "59996e92",
   "metadata": {},
   "outputs": [],
   "source": [
    "annotations = json_load(annotations_path)\n",
    "anns = annotations['annotations']\n",
    "for v in anns:\n",
    "    w, h = v['bbox'][2:]\n",
    "    v['area'] = w * h\n",
    "json_dump(annotations, '/media/semyon/Data/Documents/coco/annotations/instances_val2017_nocrowd_bbox_area.json')"
   ]
  },
  {
   "cell_type": "code",
   "execution_count": null,
   "id": "5d63fdf6",
   "metadata": {},
   "outputs": [],
   "source": []
  }
 ],
 "metadata": {
  "kernelspec": {
   "display_name": "Python 3",
   "language": "python",
   "name": "python3"
  },
  "language_info": {
   "codemirror_mode": {
    "name": "ipython",
    "version": 3
   },
   "file_extension": ".py",
   "mimetype": "text/x-python",
   "name": "python",
   "nbconvert_exporter": "python",
   "pygments_lexer": "ipython3",
   "version": "3.7.10"
  }
 },
 "nbformat": 4,
 "nbformat_minor": 5
}
