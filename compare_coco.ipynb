{
 "cells": [
  {
   "cell_type": "code",
   "execution_count": 2,
   "id": "c457de6e",
   "metadata": {},
   "outputs": [],
   "source": [
    "import os\n",
    "import glob\n",
    "import json\n",
    "import pickle\n",
    "import torch\n",
    "import matplotlib.pyplot as plt\n",
    "import numpy as np\n",
    "from collections import defaultdict\n",
    "from tqdm.notebook import tqdm\n",
    "\n",
    "from yolov3.modules import Darknet\n",
    "from yolov3.coco import (\n",
    "    load_classes, compute_coco_detections, compute_name_id_mappings,\n",
    "    map_ids, convert_coco_detections, convert_coco_annotations\n",
    ")\n",
    "from yolov3.predictions import compute_predictions\n",
    "from yolov3.data import (\n",
    "    read_img, resize_aspect, img_to_tensor,\n",
    "    inv_aspect_transform_results, clamp_results,\n",
    "    aspect_transform\n",
    ")\n",
    "from yolov3.visualize import (\n",
    "    uniform_color_palette,\n",
    "    draw_predictions, draw_palette\n",
    ")\n",
    "from yolov3.bbox import bbox_iou\n",
    "from yolov3.metrics import compute_interpolated_precision, bbox_match"
   ]
  },
  {
   "cell_type": "code",
   "execution_count": 3,
   "id": "31a44a7f",
   "metadata": {},
   "outputs": [],
   "source": [
    "coco_val_path = '/media/semyon/Data/Documents/coco/val2017'\n",
    "coco_val_preds_path = '/media/semyon/Data/Documents/coco/preds_pt'"
   ]
  },
  {
   "cell_type": "code",
   "execution_count": 5,
   "id": "60fcf6b1",
   "metadata": {},
   "outputs": [],
   "source": [
    "classes = load_classes('config/yolov3/coco.names')\n",
    "num_classes = len(classes)"
   ]
  },
  {
   "cell_type": "code",
   "execution_count": 6,
   "id": "8fa0dd31",
   "metadata": {},
   "outputs": [],
   "source": [
    "def compute_image_name(img_path):\n",
    "    img_file_name = os.path.split(img_path)[1]\n",
    "    img_id = os.path.splitext(img_file_name)[0]\n",
    "    return img_id\n",
    "\n",
    "\n",
    "def compute_output_path(img_path, output_dir):\n",
    "    img_name = compute_image_name(img_path)\n",
    "    result_file_name = f'{img_name}.pt'\n",
    "    result_path = os.path.join(output_dir, result_file_name)\n",
    "    return result_path"
   ]
  },
  {
   "cell_type": "code",
   "execution_count": 7,
   "id": "4cf37fe7",
   "metadata": {},
   "outputs": [],
   "source": [
    "def json_load(file_path):\n",
    "    with open(file_path, 'r') as input_file:\n",
    "        result = json.load(input_file)\n",
    "    return result\n",
    "\n",
    "\n",
    "def json_dump(obj, file_path):\n",
    "    with open(file_path, 'w') as output_file:\n",
    "        json.dump(obj, output_file)"
   ]
  },
  {
   "cell_type": "code",
   "execution_count": 8,
   "id": "f5d03758",
   "metadata": {},
   "outputs": [],
   "source": [
    "annotations_path = '/media/semyon/Data/Documents/coco/annotations/instances_val2017_nocrowd.json'\n",
    "annotations = json_load(annotations_path)\n",
    "coco_cat_ids_mapping_path = '/media/semyon/Data/Documents/coco/coco_cat_ids_mapping.json'\n",
    "coco_cat_ids_mapping = json_load(coco_cat_ids_mapping_path)\n",
    "coco_cat_ids_mapping = {int(k): v for k, v in coco_cat_ids_mapping.items()}\n",
    "coco_cat_ids_mapping_inv = {v: k for k, v in coco_cat_ids_mapping.items()}\n",
    "coco_bboxes = convert_coco_annotations(annotations, coco_cat_ids_mapping_inv)"
   ]
  },
  {
   "cell_type": "code",
   "execution_count": 9,
   "id": "01c7b9d1",
   "metadata": {},
   "outputs": [],
   "source": [
    "yolo_detections_path = '/media/semyon/Data/Documents/coco/yolo_dt.json'\n",
    "yolo_detections = json_load(yolo_detections_path)\n",
    "yolo_bboxes = convert_coco_detections(yolo_detections, coco_cat_ids_mapping_inv)"
   ]
  },
  {
   "cell_type": "code",
   "execution_count": 10,
   "id": "c237f6da",
   "metadata": {},
   "outputs": [],
   "source": [
    "name_id, id_name = compute_name_id_mappings(annotations['images'])"
   ]
  },
  {
   "cell_type": "code",
   "execution_count": 16,
   "id": "c5e0765b",
   "metadata": {},
   "outputs": [
    {
     "data": {
      "text/plain": [
       "30628"
      ]
     },
     "execution_count": 16,
     "metadata": {},
     "output_type": "execute_result"
    }
   ],
   "source": [
    "sum([len(v) for k, v in yolo_bboxes.items()])"
   ]
  },
  {
   "cell_type": "code",
   "execution_count": 17,
   "id": "ed5dd508",
   "metadata": {},
   "outputs": [
    {
     "data": {
      "text/plain": [
       "36335"
      ]
     },
     "execution_count": 17,
     "metadata": {},
     "output_type": "execute_result"
    }
   ],
   "source": [
    "sum([len(v) for k, v in coco_bboxes.items()])"
   ]
  },
  {
   "cell_type": "code",
   "execution_count": 18,
   "id": "ef6fc0e8",
   "metadata": {},
   "outputs": [],
   "source": [
    "n_preds = 100\n",
    "iou_threshold = 0.75\n",
    "area_range = [0 ** 2, 1e5 ** 2]\n",
    "# area_range = [32 ** 2, 96 ** 2]\n",
    "c_skip = 0\n",
    "matches = []\n",
    "matches_cat = defaultdict(list)\n",
    "for image_id in id_name:\n",
    "    if image_id in coco_bboxes:\n",
    "        targets = coco_bboxes[image_id]\n",
    "    else:\n",
    "        targets = torch.empty(0, 6, dtype=torch.float32)\n",
    "    if image_id in yolo_bboxes:\n",
    "        preds = yolo_bboxes[image_id]\n",
    "    else:\n",
    "        preds = torch.empty(0, 7, dtype=torch.float32)\n",
    "    if targets.numel() == 0 and preds.numel() == 0:\n",
    "        c_skip += 1\n",
    "        continue\n",
    "    cats = torch.unique(torch.cat((preds[:, 5], targets[:, 4]))).detach().cpu().numpy()\n",
    "    for c in cats:\n",
    "        p = preds[preds[:, 5] == c]\n",
    "        t = targets[targets[:, 4] == c]\n",
    "        ious = bbox_iou(p[:, :4], t[:, :4])\n",
    "        target_ids = t[:, 5].detach().cpu().numpy().astype(np.int64)\n",
    "        match = bbox_match(\n",
    "            p[:, :5], t[:, :4], ious,\n",
    "            iou_threshold=iou_threshold,\n",
    "            n_preds=n_preds,\n",
    "            area_range=area_range\n",
    "        )\n",
    "        matches_cat[c - 1].append(match)\n",
    "        pred_ids = p[match['index'], 6].detach().cpu().numpy().astype(np.int64)\n",
    "        scores = match['confidence'].detach().cpu().numpy()\n",
    "        matched = np.array([t[t_id, 5].item() if t_id >= 0 else 0 for t_id in match['match']]).astype(np.int64)\n",
    "        category_id = coco_cat_ids_mapping[c]\n",
    "        match = {\n",
    "            'image_id': image_id,\n",
    "            'category_id': category_id,\n",
    "            'target_ids': target_ids,\n",
    "            'pred_ids': pred_ids,\n",
    "            'matched': matched,\n",
    "            'scores': scores\n",
    "        }\n",
    "        matches.append(match)"
   ]
  },
  {
   "cell_type": "code",
   "execution_count": 19,
   "id": "dfffa8d1",
   "metadata": {},
   "outputs": [
    {
     "name": "stdout",
     "output_type": "stream",
     "text": [
      "36\n"
     ]
    }
   ],
   "source": [
    "print(c_skip)"
   ]
  },
  {
   "cell_type": "code",
   "execution_count": 12,
   "id": "efb6ca98",
   "metadata": {},
   "outputs": [],
   "source": [
    "num_points = 101\n",
    "results = np.full((num_classes, num_points), -1, dtype=np.float32)\n",
    "for c in range(num_classes):\n",
    "    if c not in matches_cat:\n",
    "        print('no class', c)\n",
    "        continue\n",
    "    m = matches_cat[c]\n",
    "    num_targets = sum([rec['num_targets'] for rec in m])\n",
    "    bbox_m = torch.cat([rec['match'] for rec in m])\n",
    "    bbox_c = torch.cat([rec['confidence'] for rec in m])\n",
    "\n",
    "    indices = np.argsort(-bbox_c.detach().cpu().numpy(), kind='mergesort')\n",
    "    indices = torch.tensor(indices, dtype=torch.int64)\n",
    "    bbox_c = bbox_c[indices]\n",
    "    bbox_m = bbox_m[indices]\n",
    "    \n",
    "    tp = (bbox_m != -1).cumsum(0)\n",
    "    fp = (bbox_m == -1).cumsum(0)\n",
    "    precision = tp / (tp + fp)\n",
    "    recall = tp / num_targets\n",
    "    rthresh = torch.linspace(0, 1, num_points)\n",
    "    iprecision = compute_interpolated_precision(precision, recall, rthresh)\n",
    "    results[c] = iprecision.detach().cpu().numpy()"
   ]
  },
  {
   "cell_type": "code",
   "execution_count": 13,
   "id": "116393ad",
   "metadata": {},
   "outputs": [
    {
     "data": {
      "text/plain": [
       "0.3051732"
      ]
     },
     "execution_count": 13,
     "metadata": {},
     "output_type": "execute_result"
    }
   ],
   "source": [
    "results[results > -1].mean()"
   ]
  },
  {
   "cell_type": "code",
   "execution_count": 12,
   "id": "1253889e",
   "metadata": {},
   "outputs": [
    {
     "data": {
      "text/plain": [
       "15947"
      ]
     },
     "execution_count": 12,
     "metadata": {},
     "output_type": "execute_result"
    }
   ],
   "source": [
    "coco_matches_path = '/media/semyon/Data/Documents/coco/coco_matches.pkl'\n",
    "with open(coco_matches_path, 'rb') as input_file:\n",
    "    coco_matches = pickle.load(input_file)\n",
    "len(coco_matches)"
   ]
  },
  {
   "cell_type": "code",
   "execution_count": 20,
   "id": "0d41c400",
   "metadata": {},
   "outputs": [
    {
     "data": {
      "text/plain": [
       "15947"
      ]
     },
     "execution_count": 20,
     "metadata": {},
     "output_type": "execute_result"
    }
   ],
   "source": [
    "len(matches)"
   ]
  },
  {
   "cell_type": "code",
   "execution_count": 13,
   "id": "8d178940",
   "metadata": {},
   "outputs": [],
   "source": [
    "coco_matches = {(m['image_id'], m['category_id']): m for m in coco_matches}\n",
    "matches = {(m['image_id'], m['category_id']): m for m in matches}"
   ]
  },
  {
   "cell_type": "code",
   "execution_count": 14,
   "id": "875f39e9",
   "metadata": {},
   "outputs": [],
   "source": [
    "def compare_matches(m_1, m_2):\n",
    "    if m_1['image_id'] != m_2['image_id']:\n",
    "        return False, 'image_id'\n",
    "    if m_1['category_id'] != m_2['category_id']:\n",
    "        return False, 'category_id'\n",
    "    t_1 = set(m_1['target_ids'])\n",
    "    t_2 = set(m_2['target_ids'])\n",
    "    if t_1 != t_2:\n",
    "        return False, 'target_ids'\n",
    "    p_1 = m_1['pred_ids']\n",
    "    p_2 = m_2['pred_ids']\n",
    "    if len(p_1) != len(p_2):\n",
    "        return False, 'pred_ids'\n",
    "    if not (p_1 == p_2).all():\n",
    "        return False, 'pred_ids'\n",
    "    mt_1 = m_1['matched']\n",
    "    mt_2 = m_2['matched']\n",
    "    if len(mt_1) != len(mt_2):\n",
    "        return False, 'matched'\n",
    "    if not (mt_1 == mt_2).all():\n",
    "        return False, 'matched'\n",
    "    s_1 = m_1['scores']\n",
    "    s_2 = m_2['scores']\n",
    "    if len(s_1) != len(s_2):\n",
    "        return False, 'scores'\n",
    "    if not np.allclose(s_1, s_2):\n",
    "        return False, 'scores'\n",
    "    return True, 'ok'"
   ]
  },
  {
   "cell_type": "code",
   "execution_count": 15,
   "id": "201d5edc",
   "metadata": {},
   "outputs": [],
   "source": [
    "comp = {}\n",
    "for k in coco_matches:\n",
    "    if k not in matches:\n",
    "        comp[k] = 'no entry'\n",
    "        continue\n",
    "    s, m = compare_matches(coco_matches[k], matches[k])\n",
    "    comp[k] = m"
   ]
  },
  {
   "cell_type": "code",
   "execution_count": 16,
   "id": "183bd1aa",
   "metadata": {},
   "outputs": [
    {
     "data": {
      "text/plain": [
       "{'matched', 'ok'}"
      ]
     },
     "execution_count": 16,
     "metadata": {},
     "output_type": "execute_result"
    }
   ],
   "source": [
    "set(comp.values())"
   ]
  },
  {
   "cell_type": "code",
   "execution_count": null,
   "id": "e2ed06ef",
   "metadata": {},
   "outputs": [],
   "source": [
    "num_no = len([v for v in comp.values() if v == 'no entry'])"
   ]
  },
  {
   "cell_type": "code",
   "execution_count": null,
   "id": "babc75b6",
   "metadata": {},
   "outputs": [],
   "source": [
    "print(num_no)\n",
    "print(len(coco_matches) - len(matches))"
   ]
  },
  {
   "cell_type": "code",
   "execution_count": 4,
   "id": "3f8f87ff",
   "metadata": {},
   "outputs": [
    {
     "data": {
      "text/plain": [
       "tensor([44, 61, 67, 18, 46])"
      ]
     },
     "execution_count": 4,
     "metadata": {},
     "output_type": "execute_result"
    }
   ],
   "source": [
    "v, i = torch.max(torch.rand(5, 80), 1)\n",
    "i"
   ]
  },
  {
   "cell_type": "code",
   "execution_count": 8,
   "id": "ea1e3629",
   "metadata": {},
   "outputs": [
    {
     "data": {
      "text/plain": [
       "'asdfa'"
      ]
     },
     "execution_count": 8,
     "metadata": {},
     "output_type": "execute_result"
    }
   ],
   "source": [
    "os.path.splitext('asdfa')[0]"
   ]
  },
  {
   "cell_type": "code",
   "execution_count": 10,
   "id": "30cc00eb",
   "metadata": {},
   "outputs": [
    {
     "data": {
      "text/plain": [
       "10"
      ]
     },
     "execution_count": 10,
     "metadata": {},
     "output_type": "execute_result"
    }
   ],
   "source": [
    "len(f'{14:10d}')"
   ]
  },
  {
   "cell_type": "code",
   "execution_count": null,
   "id": "817b522c",
   "metadata": {},
   "outputs": [],
   "source": []
  }
 ],
 "metadata": {
  "kernelspec": {
   "display_name": "Python 3",
   "language": "python",
   "name": "python3"
  },
  "language_info": {
   "codemirror_mode": {
    "name": "ipython",
    "version": 3
   },
   "file_extension": ".py",
   "mimetype": "text/x-python",
   "name": "python",
   "nbconvert_exporter": "python",
   "pygments_lexer": "ipython3",
   "version": "3.7.10"
  }
 },
 "nbformat": 4,
 "nbformat_minor": 5
}
